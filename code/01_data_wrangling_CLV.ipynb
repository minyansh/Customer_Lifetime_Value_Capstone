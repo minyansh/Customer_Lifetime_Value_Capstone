{
 "cells": [
  {
   "cell_type": "code",
   "execution_count": 1,
   "metadata": {
    "ExecuteTime": {
     "end_time": "2021-11-08T14:10:26.130402Z",
     "start_time": "2021-11-08T14:10:23.901545Z"
    }
   },
   "outputs": [],
   "source": [
    "import numpy as np\n",
    "import pandas as pd\n",
    "import matplotlib.pyplot as plt\n",
    "import seaborn as sns"
   ]
  },
  {
   "cell_type": "code",
   "execution_count": 2,
   "metadata": {
    "ExecuteTime": {
     "end_time": "2021-11-08T14:12:34.886720Z",
     "start_time": "2021-11-08T14:12:34.821308Z"
    }
   },
   "outputs": [],
   "source": [
    "clv = pd.read_csv('../data/squark_automotive_CLV_training_data.csv')"
   ]
  },
  {
   "cell_type": "markdown",
   "metadata": {},
   "source": [
    "Data Definition"
   ]
  },
  {
   "cell_type": "code",
   "execution_count": 3,
   "metadata": {
    "ExecuteTime": {
     "end_time": "2021-11-08T14:13:32.110211Z",
     "start_time": "2021-11-08T14:13:32.062061Z"
    }
   },
   "outputs": [
    {
     "data": {
      "text/html": [
       "<div>\n",
       "<style scoped>\n",
       "    .dataframe tbody tr th:only-of-type {\n",
       "        vertical-align: middle;\n",
       "    }\n",
       "\n",
       "    .dataframe tbody tr th {\n",
       "        vertical-align: top;\n",
       "    }\n",
       "\n",
       "    .dataframe thead th {\n",
       "        text-align: right;\n",
       "    }\n",
       "</style>\n",
       "<table border=\"1\" class=\"dataframe\">\n",
       "  <thead>\n",
       "    <tr style=\"text-align: right;\">\n",
       "      <th></th>\n",
       "      <th>Customer</th>\n",
       "      <th>State</th>\n",
       "      <th>Customer Lifetime Value</th>\n",
       "      <th>Response</th>\n",
       "      <th>Coverage</th>\n",
       "      <th>Education</th>\n",
       "      <th>Effective To Date</th>\n",
       "      <th>EmploymentStatus</th>\n",
       "      <th>Gender</th>\n",
       "      <th>Income</th>\n",
       "      <th>...</th>\n",
       "      <th>Months Since Policy Inception</th>\n",
       "      <th>Number of Open Complaints</th>\n",
       "      <th>Number of Policies</th>\n",
       "      <th>Policy Type</th>\n",
       "      <th>Policy</th>\n",
       "      <th>Renew Offer Type</th>\n",
       "      <th>Sales Channel</th>\n",
       "      <th>Total Claim Amount</th>\n",
       "      <th>Vehicle Class</th>\n",
       "      <th>Vehicle Size</th>\n",
       "    </tr>\n",
       "  </thead>\n",
       "  <tbody>\n",
       "    <tr>\n",
       "      <th>0</th>\n",
       "      <td>BU79786</td>\n",
       "      <td>Washington</td>\n",
       "      <td>2763.519279</td>\n",
       "      <td>No</td>\n",
       "      <td>Basic</td>\n",
       "      <td>Bachelor</td>\n",
       "      <td>2/24/2011</td>\n",
       "      <td>Employed</td>\n",
       "      <td>F</td>\n",
       "      <td>56274.0</td>\n",
       "      <td>...</td>\n",
       "      <td>5.0</td>\n",
       "      <td>0.0</td>\n",
       "      <td>1.0</td>\n",
       "      <td>Corporate Auto</td>\n",
       "      <td>Corporate L3</td>\n",
       "      <td>Offer1</td>\n",
       "      <td>Agent</td>\n",
       "      <td>384.811147</td>\n",
       "      <td>Two-Door Car</td>\n",
       "      <td>Medsize</td>\n",
       "    </tr>\n",
       "    <tr>\n",
       "      <th>1</th>\n",
       "      <td>QZ44356</td>\n",
       "      <td>Arizona</td>\n",
       "      <td>6979.535903</td>\n",
       "      <td>No</td>\n",
       "      <td>Extended</td>\n",
       "      <td>Bachelor</td>\n",
       "      <td>1/31/2011</td>\n",
       "      <td>Unemployed</td>\n",
       "      <td>F</td>\n",
       "      <td>0.0</td>\n",
       "      <td>...</td>\n",
       "      <td>42.0</td>\n",
       "      <td>0.0</td>\n",
       "      <td>8.0</td>\n",
       "      <td>Personal Auto</td>\n",
       "      <td>Personal L3</td>\n",
       "      <td>Offer3</td>\n",
       "      <td>Agent</td>\n",
       "      <td>1131.464935</td>\n",
       "      <td>Four-Door Car</td>\n",
       "      <td>Medsize</td>\n",
       "    </tr>\n",
       "    <tr>\n",
       "      <th>2</th>\n",
       "      <td>AI49188</td>\n",
       "      <td>Nevada</td>\n",
       "      <td>12887.431650</td>\n",
       "      <td>No</td>\n",
       "      <td>Premium</td>\n",
       "      <td>Bachelor</td>\n",
       "      <td>2/19/2011</td>\n",
       "      <td>Employed</td>\n",
       "      <td>F</td>\n",
       "      <td>48767.0</td>\n",
       "      <td>...</td>\n",
       "      <td>38.0</td>\n",
       "      <td>0.0</td>\n",
       "      <td>2.0</td>\n",
       "      <td>Personal Auto</td>\n",
       "      <td>Personal L3</td>\n",
       "      <td>Offer1</td>\n",
       "      <td>Agent</td>\n",
       "      <td>566.472247</td>\n",
       "      <td>Two-Door Car</td>\n",
       "      <td>Medsize</td>\n",
       "    </tr>\n",
       "    <tr>\n",
       "      <th>3</th>\n",
       "      <td>WW63253</td>\n",
       "      <td>California</td>\n",
       "      <td>7645.861827</td>\n",
       "      <td>No</td>\n",
       "      <td>Basic</td>\n",
       "      <td>Bachelor</td>\n",
       "      <td>1/20/2011</td>\n",
       "      <td>Unemployed</td>\n",
       "      <td>M</td>\n",
       "      <td>0.0</td>\n",
       "      <td>...</td>\n",
       "      <td>65.0</td>\n",
       "      <td>0.0</td>\n",
       "      <td>7.0</td>\n",
       "      <td>Corporate Auto</td>\n",
       "      <td>Corporate L2</td>\n",
       "      <td>Offer1</td>\n",
       "      <td>Call Center</td>\n",
       "      <td>529.881344</td>\n",
       "      <td>SUV</td>\n",
       "      <td>Medsize</td>\n",
       "    </tr>\n",
       "    <tr>\n",
       "      <th>4</th>\n",
       "      <td>HB64268</td>\n",
       "      <td>Washington</td>\n",
       "      <td>2813.692575</td>\n",
       "      <td>No</td>\n",
       "      <td>Basic</td>\n",
       "      <td>Bachelor</td>\n",
       "      <td>2/3/2011</td>\n",
       "      <td>Employed</td>\n",
       "      <td>M</td>\n",
       "      <td>43836.0</td>\n",
       "      <td>...</td>\n",
       "      <td>44.0</td>\n",
       "      <td>0.0</td>\n",
       "      <td>1.0</td>\n",
       "      <td>Personal Auto</td>\n",
       "      <td>Personal L1</td>\n",
       "      <td>Offer1</td>\n",
       "      <td>Agent</td>\n",
       "      <td>138.130879</td>\n",
       "      <td>Four-Door Car</td>\n",
       "      <td>Medsize</td>\n",
       "    </tr>\n",
       "  </tbody>\n",
       "</table>\n",
       "<p>5 rows × 24 columns</p>\n",
       "</div>"
      ],
      "text/plain": [
       "  Customer       State  Customer Lifetime Value Response  Coverage Education  \\\n",
       "0  BU79786  Washington              2763.519279       No     Basic  Bachelor   \n",
       "1  QZ44356     Arizona              6979.535903       No  Extended  Bachelor   \n",
       "2  AI49188      Nevada             12887.431650       No   Premium  Bachelor   \n",
       "3  WW63253  California              7645.861827       No     Basic  Bachelor   \n",
       "4  HB64268  Washington              2813.692575       No     Basic  Bachelor   \n",
       "\n",
       "  Effective To Date EmploymentStatus Gender   Income  ...  \\\n",
       "0         2/24/2011         Employed      F  56274.0  ...   \n",
       "1         1/31/2011       Unemployed      F      0.0  ...   \n",
       "2         2/19/2011         Employed      F  48767.0  ...   \n",
       "3         1/20/2011       Unemployed      M      0.0  ...   \n",
       "4          2/3/2011         Employed      M  43836.0  ...   \n",
       "\n",
       "  Months Since Policy Inception Number of Open Complaints  Number of Policies  \\\n",
       "0                           5.0                       0.0                 1.0   \n",
       "1                          42.0                       0.0                 8.0   \n",
       "2                          38.0                       0.0                 2.0   \n",
       "3                          65.0                       0.0                 7.0   \n",
       "4                          44.0                       0.0                 1.0   \n",
       "\n",
       "      Policy Type        Policy  Renew Offer Type  Sales Channel  \\\n",
       "0  Corporate Auto  Corporate L3            Offer1          Agent   \n",
       "1   Personal Auto   Personal L3            Offer3          Agent   \n",
       "2   Personal Auto   Personal L3            Offer1          Agent   \n",
       "3  Corporate Auto  Corporate L2            Offer1    Call Center   \n",
       "4   Personal Auto   Personal L1            Offer1          Agent   \n",
       "\n",
       "  Total Claim Amount  Vehicle Class Vehicle Size  \n",
       "0         384.811147   Two-Door Car      Medsize  \n",
       "1        1131.464935  Four-Door Car      Medsize  \n",
       "2         566.472247   Two-Door Car      Medsize  \n",
       "3         529.881344            SUV      Medsize  \n",
       "4         138.130879  Four-Door Car      Medsize  \n",
       "\n",
       "[5 rows x 24 columns]"
      ]
     },
     "execution_count": 3,
     "metadata": {},
     "output_type": "execute_result"
    }
   ],
   "source": [
    "clv.head()"
   ]
  },
  {
   "cell_type": "code",
   "execution_count": 4,
   "metadata": {
    "ExecuteTime": {
     "end_time": "2021-11-08T14:13:43.242961Z",
     "start_time": "2021-11-08T14:13:43.235060Z"
    }
   },
   "outputs": [
    {
     "data": {
      "text/plain": [
       "Index(['Customer', 'State', 'Customer Lifetime Value', 'Response', 'Coverage',\n",
       "       'Education', 'Effective To Date', 'EmploymentStatus', 'Gender',\n",
       "       'Income', 'Location Code', 'Marital Status', 'Monthly Premium Auto',\n",
       "       'Months Since Last Claim', 'Months Since Policy Inception',\n",
       "       'Number of Open Complaints', 'Number of Policies', 'Policy Type',\n",
       "       'Policy', 'Renew Offer Type', 'Sales Channel', 'Total Claim Amount',\n",
       "       'Vehicle Class', 'Vehicle Size'],\n",
       "      dtype='object')"
      ]
     },
     "execution_count": 4,
     "metadata": {},
     "output_type": "execute_result"
    }
   ],
   "source": [
    "clv.columns"
   ]
  },
  {
   "cell_type": "code",
   "execution_count": 5,
   "metadata": {
    "ExecuteTime": {
     "end_time": "2021-11-08T14:13:54.592888Z",
     "start_time": "2021-11-08T14:13:54.483009Z"
    }
   },
   "outputs": [
    {
     "name": "stdout",
     "output_type": "stream",
     "text": [
      "<class 'pandas.core.frame.DataFrame'>\n",
      "RangeIndex: 9134 entries, 0 to 9133\n",
      "Data columns (total 24 columns):\n",
      " #   Column                         Non-Null Count  Dtype  \n",
      "---  ------                         --------------  -----  \n",
      " 0   Customer                       8099 non-null   object \n",
      " 1   State                          8099 non-null   object \n",
      " 2   Customer Lifetime Value        8099 non-null   float64\n",
      " 3   Response                       8099 non-null   object \n",
      " 4   Coverage                       8099 non-null   object \n",
      " 5   Education                      8099 non-null   object \n",
      " 6   Effective To Date              8099 non-null   object \n",
      " 7   EmploymentStatus               8099 non-null   object \n",
      " 8   Gender                         8099 non-null   object \n",
      " 9   Income                         8099 non-null   float64\n",
      " 10  Location Code                  8099 non-null   object \n",
      " 11  Marital Status                 8099 non-null   object \n",
      " 12  Monthly Premium Auto           8099 non-null   float64\n",
      " 13  Months Since Last Claim        8099 non-null   float64\n",
      " 14  Months Since Policy Inception  8099 non-null   float64\n",
      " 15  Number of Open Complaints      8099 non-null   float64\n",
      " 16  Number of Policies             8099 non-null   float64\n",
      " 17  Policy Type                    8099 non-null   object \n",
      " 18  Policy                         8099 non-null   object \n",
      " 19  Renew Offer Type               8099 non-null   object \n",
      " 20  Sales Channel                  8099 non-null   object \n",
      " 21  Total Claim Amount             8099 non-null   float64\n",
      " 22  Vehicle Class                  8099 non-null   object \n",
      " 23  Vehicle Size                   8099 non-null   object \n",
      "dtypes: float64(8), object(16)\n",
      "memory usage: 1.7+ MB\n"
     ]
    }
   ],
   "source": [
    "clv.info()"
   ]
  },
  {
   "cell_type": "code",
   "execution_count": 6,
   "metadata": {
    "ExecuteTime": {
     "end_time": "2021-11-08T14:26:43.904724Z",
     "start_time": "2021-11-08T14:26:43.809572Z"
    }
   },
   "outputs": [
    {
     "data": {
      "text/plain": [
       "Customer                         1035\n",
       "State                            1035\n",
       "Customer Lifetime Value          1035\n",
       "Response                         1035\n",
       "Coverage                         1035\n",
       "Education                        1035\n",
       "Effective To Date                1035\n",
       "EmploymentStatus                 1035\n",
       "Gender                           1035\n",
       "Income                           1035\n",
       "Location Code                    1035\n",
       "Marital Status                   1035\n",
       "Monthly Premium Auto             1035\n",
       "Months Since Last Claim          1035\n",
       "Months Since Policy Inception    1035\n",
       "Number of Open Complaints        1035\n",
       "Number of Policies               1035\n",
       "Policy Type                      1035\n",
       "Policy                           1035\n",
       "Renew Offer Type                 1035\n",
       "Sales Channel                    1035\n",
       "Total Claim Amount               1035\n",
       "Vehicle Class                    1035\n",
       "Vehicle Size                     1035\n",
       "dtype: int64"
      ]
     },
     "execution_count": 6,
     "metadata": {},
     "output_type": "execute_result"
    }
   ],
   "source": [
    "clv.isnull().sum() ## wierd missing values??"
   ]
  },
  {
   "cell_type": "code",
   "execution_count": 9,
   "metadata": {
    "ExecuteTime": {
     "end_time": "2021-11-08T14:31:15.425305Z",
     "start_time": "2021-11-08T14:31:15.393791Z"
    }
   },
   "outputs": [],
   "source": [
    "null_rows = np.where(clv.isnull())[0]"
   ]
  },
  {
   "cell_type": "code",
   "execution_count": 10,
   "metadata": {
    "ExecuteTime": {
     "end_time": "2021-11-08T14:32:14.346245Z",
     "start_time": "2021-11-08T14:32:14.172922Z"
    }
   },
   "outputs": [
    {
     "data": {
      "text/html": [
       "<div>\n",
       "<style scoped>\n",
       "    .dataframe tbody tr th:only-of-type {\n",
       "        vertical-align: middle;\n",
       "    }\n",
       "\n",
       "    .dataframe tbody tr th {\n",
       "        vertical-align: top;\n",
       "    }\n",
       "\n",
       "    .dataframe thead th {\n",
       "        text-align: right;\n",
       "    }\n",
       "</style>\n",
       "<table border=\"1\" class=\"dataframe\">\n",
       "  <thead>\n",
       "    <tr style=\"text-align: right;\">\n",
       "      <th></th>\n",
       "      <th>Customer</th>\n",
       "      <th>State</th>\n",
       "      <th>Customer Lifetime Value</th>\n",
       "      <th>Response</th>\n",
       "      <th>Coverage</th>\n",
       "      <th>Education</th>\n",
       "      <th>Effective To Date</th>\n",
       "      <th>EmploymentStatus</th>\n",
       "      <th>Gender</th>\n",
       "      <th>Income</th>\n",
       "      <th>...</th>\n",
       "      <th>Months Since Policy Inception</th>\n",
       "      <th>Number of Open Complaints</th>\n",
       "      <th>Number of Policies</th>\n",
       "      <th>Policy Type</th>\n",
       "      <th>Policy</th>\n",
       "      <th>Renew Offer Type</th>\n",
       "      <th>Sales Channel</th>\n",
       "      <th>Total Claim Amount</th>\n",
       "      <th>Vehicle Class</th>\n",
       "      <th>Vehicle Size</th>\n",
       "    </tr>\n",
       "  </thead>\n",
       "  <tbody>\n",
       "    <tr>\n",
       "      <th>8099</th>\n",
       "      <td>NaN</td>\n",
       "      <td>NaN</td>\n",
       "      <td>NaN</td>\n",
       "      <td>NaN</td>\n",
       "      <td>NaN</td>\n",
       "      <td>NaN</td>\n",
       "      <td>NaN</td>\n",
       "      <td>NaN</td>\n",
       "      <td>NaN</td>\n",
       "      <td>NaN</td>\n",
       "      <td>...</td>\n",
       "      <td>NaN</td>\n",
       "      <td>NaN</td>\n",
       "      <td>NaN</td>\n",
       "      <td>NaN</td>\n",
       "      <td>NaN</td>\n",
       "      <td>NaN</td>\n",
       "      <td>NaN</td>\n",
       "      <td>NaN</td>\n",
       "      <td>NaN</td>\n",
       "      <td>NaN</td>\n",
       "    </tr>\n",
       "    <tr>\n",
       "      <th>8099</th>\n",
       "      <td>NaN</td>\n",
       "      <td>NaN</td>\n",
       "      <td>NaN</td>\n",
       "      <td>NaN</td>\n",
       "      <td>NaN</td>\n",
       "      <td>NaN</td>\n",
       "      <td>NaN</td>\n",
       "      <td>NaN</td>\n",
       "      <td>NaN</td>\n",
       "      <td>NaN</td>\n",
       "      <td>...</td>\n",
       "      <td>NaN</td>\n",
       "      <td>NaN</td>\n",
       "      <td>NaN</td>\n",
       "      <td>NaN</td>\n",
       "      <td>NaN</td>\n",
       "      <td>NaN</td>\n",
       "      <td>NaN</td>\n",
       "      <td>NaN</td>\n",
       "      <td>NaN</td>\n",
       "      <td>NaN</td>\n",
       "    </tr>\n",
       "    <tr>\n",
       "      <th>8099</th>\n",
       "      <td>NaN</td>\n",
       "      <td>NaN</td>\n",
       "      <td>NaN</td>\n",
       "      <td>NaN</td>\n",
       "      <td>NaN</td>\n",
       "      <td>NaN</td>\n",
       "      <td>NaN</td>\n",
       "      <td>NaN</td>\n",
       "      <td>NaN</td>\n",
       "      <td>NaN</td>\n",
       "      <td>...</td>\n",
       "      <td>NaN</td>\n",
       "      <td>NaN</td>\n",
       "      <td>NaN</td>\n",
       "      <td>NaN</td>\n",
       "      <td>NaN</td>\n",
       "      <td>NaN</td>\n",
       "      <td>NaN</td>\n",
       "      <td>NaN</td>\n",
       "      <td>NaN</td>\n",
       "      <td>NaN</td>\n",
       "    </tr>\n",
       "    <tr>\n",
       "      <th>8099</th>\n",
       "      <td>NaN</td>\n",
       "      <td>NaN</td>\n",
       "      <td>NaN</td>\n",
       "      <td>NaN</td>\n",
       "      <td>NaN</td>\n",
       "      <td>NaN</td>\n",
       "      <td>NaN</td>\n",
       "      <td>NaN</td>\n",
       "      <td>NaN</td>\n",
       "      <td>NaN</td>\n",
       "      <td>...</td>\n",
       "      <td>NaN</td>\n",
       "      <td>NaN</td>\n",
       "      <td>NaN</td>\n",
       "      <td>NaN</td>\n",
       "      <td>NaN</td>\n",
       "      <td>NaN</td>\n",
       "      <td>NaN</td>\n",
       "      <td>NaN</td>\n",
       "      <td>NaN</td>\n",
       "      <td>NaN</td>\n",
       "    </tr>\n",
       "    <tr>\n",
       "      <th>8099</th>\n",
       "      <td>NaN</td>\n",
       "      <td>NaN</td>\n",
       "      <td>NaN</td>\n",
       "      <td>NaN</td>\n",
       "      <td>NaN</td>\n",
       "      <td>NaN</td>\n",
       "      <td>NaN</td>\n",
       "      <td>NaN</td>\n",
       "      <td>NaN</td>\n",
       "      <td>NaN</td>\n",
       "      <td>...</td>\n",
       "      <td>NaN</td>\n",
       "      <td>NaN</td>\n",
       "      <td>NaN</td>\n",
       "      <td>NaN</td>\n",
       "      <td>NaN</td>\n",
       "      <td>NaN</td>\n",
       "      <td>NaN</td>\n",
       "      <td>NaN</td>\n",
       "      <td>NaN</td>\n",
       "      <td>NaN</td>\n",
       "    </tr>\n",
       "    <tr>\n",
       "      <th>...</th>\n",
       "      <td>...</td>\n",
       "      <td>...</td>\n",
       "      <td>...</td>\n",
       "      <td>...</td>\n",
       "      <td>...</td>\n",
       "      <td>...</td>\n",
       "      <td>...</td>\n",
       "      <td>...</td>\n",
       "      <td>...</td>\n",
       "      <td>...</td>\n",
       "      <td>...</td>\n",
       "      <td>...</td>\n",
       "      <td>...</td>\n",
       "      <td>...</td>\n",
       "      <td>...</td>\n",
       "      <td>...</td>\n",
       "      <td>...</td>\n",
       "      <td>...</td>\n",
       "      <td>...</td>\n",
       "      <td>...</td>\n",
       "      <td>...</td>\n",
       "    </tr>\n",
       "    <tr>\n",
       "      <th>9133</th>\n",
       "      <td>NaN</td>\n",
       "      <td>NaN</td>\n",
       "      <td>NaN</td>\n",
       "      <td>NaN</td>\n",
       "      <td>NaN</td>\n",
       "      <td>NaN</td>\n",
       "      <td>NaN</td>\n",
       "      <td>NaN</td>\n",
       "      <td>NaN</td>\n",
       "      <td>NaN</td>\n",
       "      <td>...</td>\n",
       "      <td>NaN</td>\n",
       "      <td>NaN</td>\n",
       "      <td>NaN</td>\n",
       "      <td>NaN</td>\n",
       "      <td>NaN</td>\n",
       "      <td>NaN</td>\n",
       "      <td>NaN</td>\n",
       "      <td>NaN</td>\n",
       "      <td>NaN</td>\n",
       "      <td>NaN</td>\n",
       "    </tr>\n",
       "    <tr>\n",
       "      <th>9133</th>\n",
       "      <td>NaN</td>\n",
       "      <td>NaN</td>\n",
       "      <td>NaN</td>\n",
       "      <td>NaN</td>\n",
       "      <td>NaN</td>\n",
       "      <td>NaN</td>\n",
       "      <td>NaN</td>\n",
       "      <td>NaN</td>\n",
       "      <td>NaN</td>\n",
       "      <td>NaN</td>\n",
       "      <td>...</td>\n",
       "      <td>NaN</td>\n",
       "      <td>NaN</td>\n",
       "      <td>NaN</td>\n",
       "      <td>NaN</td>\n",
       "      <td>NaN</td>\n",
       "      <td>NaN</td>\n",
       "      <td>NaN</td>\n",
       "      <td>NaN</td>\n",
       "      <td>NaN</td>\n",
       "      <td>NaN</td>\n",
       "    </tr>\n",
       "    <tr>\n",
       "      <th>9133</th>\n",
       "      <td>NaN</td>\n",
       "      <td>NaN</td>\n",
       "      <td>NaN</td>\n",
       "      <td>NaN</td>\n",
       "      <td>NaN</td>\n",
       "      <td>NaN</td>\n",
       "      <td>NaN</td>\n",
       "      <td>NaN</td>\n",
       "      <td>NaN</td>\n",
       "      <td>NaN</td>\n",
       "      <td>...</td>\n",
       "      <td>NaN</td>\n",
       "      <td>NaN</td>\n",
       "      <td>NaN</td>\n",
       "      <td>NaN</td>\n",
       "      <td>NaN</td>\n",
       "      <td>NaN</td>\n",
       "      <td>NaN</td>\n",
       "      <td>NaN</td>\n",
       "      <td>NaN</td>\n",
       "      <td>NaN</td>\n",
       "    </tr>\n",
       "    <tr>\n",
       "      <th>9133</th>\n",
       "      <td>NaN</td>\n",
       "      <td>NaN</td>\n",
       "      <td>NaN</td>\n",
       "      <td>NaN</td>\n",
       "      <td>NaN</td>\n",
       "      <td>NaN</td>\n",
       "      <td>NaN</td>\n",
       "      <td>NaN</td>\n",
       "      <td>NaN</td>\n",
       "      <td>NaN</td>\n",
       "      <td>...</td>\n",
       "      <td>NaN</td>\n",
       "      <td>NaN</td>\n",
       "      <td>NaN</td>\n",
       "      <td>NaN</td>\n",
       "      <td>NaN</td>\n",
       "      <td>NaN</td>\n",
       "      <td>NaN</td>\n",
       "      <td>NaN</td>\n",
       "      <td>NaN</td>\n",
       "      <td>NaN</td>\n",
       "    </tr>\n",
       "    <tr>\n",
       "      <th>9133</th>\n",
       "      <td>NaN</td>\n",
       "      <td>NaN</td>\n",
       "      <td>NaN</td>\n",
       "      <td>NaN</td>\n",
       "      <td>NaN</td>\n",
       "      <td>NaN</td>\n",
       "      <td>NaN</td>\n",
       "      <td>NaN</td>\n",
       "      <td>NaN</td>\n",
       "      <td>NaN</td>\n",
       "      <td>...</td>\n",
       "      <td>NaN</td>\n",
       "      <td>NaN</td>\n",
       "      <td>NaN</td>\n",
       "      <td>NaN</td>\n",
       "      <td>NaN</td>\n",
       "      <td>NaN</td>\n",
       "      <td>NaN</td>\n",
       "      <td>NaN</td>\n",
       "      <td>NaN</td>\n",
       "      <td>NaN</td>\n",
       "    </tr>\n",
       "  </tbody>\n",
       "</table>\n",
       "<p>24840 rows × 24 columns</p>\n",
       "</div>"
      ],
      "text/plain": [
       "     Customer State  Customer Lifetime Value Response Coverage Education  \\\n",
       "8099      NaN   NaN                      NaN      NaN      NaN       NaN   \n",
       "8099      NaN   NaN                      NaN      NaN      NaN       NaN   \n",
       "8099      NaN   NaN                      NaN      NaN      NaN       NaN   \n",
       "8099      NaN   NaN                      NaN      NaN      NaN       NaN   \n",
       "8099      NaN   NaN                      NaN      NaN      NaN       NaN   \n",
       "...       ...   ...                      ...      ...      ...       ...   \n",
       "9133      NaN   NaN                      NaN      NaN      NaN       NaN   \n",
       "9133      NaN   NaN                      NaN      NaN      NaN       NaN   \n",
       "9133      NaN   NaN                      NaN      NaN      NaN       NaN   \n",
       "9133      NaN   NaN                      NaN      NaN      NaN       NaN   \n",
       "9133      NaN   NaN                      NaN      NaN      NaN       NaN   \n",
       "\n",
       "     Effective To Date EmploymentStatus Gender  Income  ...  \\\n",
       "8099               NaN              NaN    NaN     NaN  ...   \n",
       "8099               NaN              NaN    NaN     NaN  ...   \n",
       "8099               NaN              NaN    NaN     NaN  ...   \n",
       "8099               NaN              NaN    NaN     NaN  ...   \n",
       "8099               NaN              NaN    NaN     NaN  ...   \n",
       "...                ...              ...    ...     ...  ...   \n",
       "9133               NaN              NaN    NaN     NaN  ...   \n",
       "9133               NaN              NaN    NaN     NaN  ...   \n",
       "9133               NaN              NaN    NaN     NaN  ...   \n",
       "9133               NaN              NaN    NaN     NaN  ...   \n",
       "9133               NaN              NaN    NaN     NaN  ...   \n",
       "\n",
       "     Months Since Policy Inception Number of Open Complaints  \\\n",
       "8099                           NaN                       NaN   \n",
       "8099                           NaN                       NaN   \n",
       "8099                           NaN                       NaN   \n",
       "8099                           NaN                       NaN   \n",
       "8099                           NaN                       NaN   \n",
       "...                            ...                       ...   \n",
       "9133                           NaN                       NaN   \n",
       "9133                           NaN                       NaN   \n",
       "9133                           NaN                       NaN   \n",
       "9133                           NaN                       NaN   \n",
       "9133                           NaN                       NaN   \n",
       "\n",
       "      Number of Policies  Policy Type  Policy  Renew Offer Type  \\\n",
       "8099                 NaN          NaN     NaN               NaN   \n",
       "8099                 NaN          NaN     NaN               NaN   \n",
       "8099                 NaN          NaN     NaN               NaN   \n",
       "8099                 NaN          NaN     NaN               NaN   \n",
       "8099                 NaN          NaN     NaN               NaN   \n",
       "...                  ...          ...     ...               ...   \n",
       "9133                 NaN          NaN     NaN               NaN   \n",
       "9133                 NaN          NaN     NaN               NaN   \n",
       "9133                 NaN          NaN     NaN               NaN   \n",
       "9133                 NaN          NaN     NaN               NaN   \n",
       "9133                 NaN          NaN     NaN               NaN   \n",
       "\n",
       "      Sales Channel Total Claim Amount Vehicle Class Vehicle Size  \n",
       "8099            NaN                NaN           NaN          NaN  \n",
       "8099            NaN                NaN           NaN          NaN  \n",
       "8099            NaN                NaN           NaN          NaN  \n",
       "8099            NaN                NaN           NaN          NaN  \n",
       "8099            NaN                NaN           NaN          NaN  \n",
       "...             ...                ...           ...          ...  \n",
       "9133            NaN                NaN           NaN          NaN  \n",
       "9133            NaN                NaN           NaN          NaN  \n",
       "9133            NaN                NaN           NaN          NaN  \n",
       "9133            NaN                NaN           NaN          NaN  \n",
       "9133            NaN                NaN           NaN          NaN  \n",
       "\n",
       "[24840 rows x 24 columns]"
      ]
     },
     "execution_count": 10,
     "metadata": {},
     "output_type": "execute_result"
    }
   ],
   "source": [
    "clv.iloc[null_rows]"
   ]
  },
  {
   "cell_type": "code",
   "execution_count": 11,
   "metadata": {
    "ExecuteTime": {
     "end_time": "2021-11-08T14:33:07.234599Z",
     "start_time": "2021-11-08T14:33:07.215076Z"
    }
   },
   "outputs": [],
   "source": [
    "#thus we can safely drop these missing value\n",
    "clv = clv.dropna(how = 'all')"
   ]
  },
  {
   "cell_type": "code",
   "execution_count": 13,
   "metadata": {
    "ExecuteTime": {
     "end_time": "2021-11-08T14:33:21.227823Z",
     "start_time": "2021-11-08T14:33:21.190665Z"
    }
   },
   "outputs": [
    {
     "name": "stdout",
     "output_type": "stream",
     "text": [
      "<class 'pandas.core.frame.DataFrame'>\n",
      "Int64Index: 8099 entries, 0 to 8098\n",
      "Data columns (total 24 columns):\n",
      " #   Column                         Non-Null Count  Dtype  \n",
      "---  ------                         --------------  -----  \n",
      " 0   Customer                       8099 non-null   object \n",
      " 1   State                          8099 non-null   object \n",
      " 2   Customer Lifetime Value        8099 non-null   float64\n",
      " 3   Response                       8099 non-null   object \n",
      " 4   Coverage                       8099 non-null   object \n",
      " 5   Education                      8099 non-null   object \n",
      " 6   Effective To Date              8099 non-null   object \n",
      " 7   EmploymentStatus               8099 non-null   object \n",
      " 8   Gender                         8099 non-null   object \n",
      " 9   Income                         8099 non-null   float64\n",
      " 10  Location Code                  8099 non-null   object \n",
      " 11  Marital Status                 8099 non-null   object \n",
      " 12  Monthly Premium Auto           8099 non-null   float64\n",
      " 13  Months Since Last Claim        8099 non-null   float64\n",
      " 14  Months Since Policy Inception  8099 non-null   float64\n",
      " 15  Number of Open Complaints      8099 non-null   float64\n",
      " 16  Number of Policies             8099 non-null   float64\n",
      " 17  Policy Type                    8099 non-null   object \n",
      " 18  Policy                         8099 non-null   object \n",
      " 19  Renew Offer Type               8099 non-null   object \n",
      " 20  Sales Channel                  8099 non-null   object \n",
      " 21  Total Claim Amount             8099 non-null   float64\n",
      " 22  Vehicle Class                  8099 non-null   object \n",
      " 23  Vehicle Size                   8099 non-null   object \n",
      "dtypes: float64(8), object(16)\n",
      "memory usage: 1.5+ MB\n"
     ]
    }
   ],
   "source": [
    "clv.info()"
   ]
  },
  {
   "cell_type": "code",
   "execution_count": 14,
   "metadata": {
    "ExecuteTime": {
     "end_time": "2021-11-08T14:46:43.017732Z",
     "start_time": "2021-11-08T14:46:42.955792Z"
    }
   },
   "outputs": [],
   "source": [
    "#explore variable\n",
    "#first numerical variable\n",
    "\n",
    "num_cols = clv.select_dtypes(include = ['float64'])"
   ]
  },
  {
   "cell_type": "code",
   "execution_count": 16,
   "metadata": {
    "ExecuteTime": {
     "end_time": "2021-11-08T14:47:07.460101Z",
     "start_time": "2021-11-08T14:47:07.445244Z"
    }
   },
   "outputs": [
    {
     "data": {
      "text/plain": [
       "(8099, 8)"
      ]
     },
     "execution_count": 16,
     "metadata": {},
     "output_type": "execute_result"
    }
   ],
   "source": [
    "num_cols.shape"
   ]
  },
  {
   "cell_type": "code",
   "execution_count": 22,
   "metadata": {
    "ExecuteTime": {
     "end_time": "2021-11-08T18:23:54.492148Z",
     "start_time": "2021-11-08T18:23:54.254316Z"
    }
   },
   "outputs": [
    {
     "data": {
      "text/html": [
       "<div>\n",
       "<style scoped>\n",
       "    .dataframe tbody tr th:only-of-type {\n",
       "        vertical-align: middle;\n",
       "    }\n",
       "\n",
       "    .dataframe tbody tr th {\n",
       "        vertical-align: top;\n",
       "    }\n",
       "\n",
       "    .dataframe thead th {\n",
       "        text-align: right;\n",
       "    }\n",
       "</style>\n",
       "<table border=\"1\" class=\"dataframe\">\n",
       "  <thead>\n",
       "    <tr style=\"text-align: right;\">\n",
       "      <th></th>\n",
       "      <th>Customer Lifetime Value</th>\n",
       "      <th>Income</th>\n",
       "      <th>Monthly Premium Auto</th>\n",
       "      <th>Months Since Last Claim</th>\n",
       "      <th>Months Since Policy Inception</th>\n",
       "      <th>Number of Open Complaints</th>\n",
       "      <th>Number of Policies</th>\n",
       "      <th>Total Claim Amount</th>\n",
       "    </tr>\n",
       "  </thead>\n",
       "  <tbody>\n",
       "    <tr>\n",
       "      <th>count</th>\n",
       "      <td>8099.000000</td>\n",
       "      <td>8099.000000</td>\n",
       "      <td>8099.000000</td>\n",
       "      <td>8099.000000</td>\n",
       "      <td>8099.000000</td>\n",
       "      <td>8099.000000</td>\n",
       "      <td>8099.000000</td>\n",
       "      <td>8099.000000</td>\n",
       "    </tr>\n",
       "    <tr>\n",
       "      <th>mean</th>\n",
       "      <td>7981.271398</td>\n",
       "      <td>37843.544265</td>\n",
       "      <td>93.140758</td>\n",
       "      <td>15.071490</td>\n",
       "      <td>48.147549</td>\n",
       "      <td>0.389184</td>\n",
       "      <td>2.963823</td>\n",
       "      <td>431.464401</td>\n",
       "    </tr>\n",
       "    <tr>\n",
       "      <th>std</th>\n",
       "      <td>6847.287340</td>\n",
       "      <td>30370.556860</td>\n",
       "      <td>34.381153</td>\n",
       "      <td>10.086656</td>\n",
       "      <td>27.818744</td>\n",
       "      <td>0.914152</td>\n",
       "      <td>2.390357</td>\n",
       "      <td>286.706233</td>\n",
       "    </tr>\n",
       "    <tr>\n",
       "      <th>min</th>\n",
       "      <td>1898.007675</td>\n",
       "      <td>0.000000</td>\n",
       "      <td>61.000000</td>\n",
       "      <td>0.000000</td>\n",
       "      <td>0.000000</td>\n",
       "      <td>0.000000</td>\n",
       "      <td>1.000000</td>\n",
       "      <td>0.099007</td>\n",
       "    </tr>\n",
       "    <tr>\n",
       "      <th>25%</th>\n",
       "      <td>3974.498315</td>\n",
       "      <td>0.000000</td>\n",
       "      <td>68.000000</td>\n",
       "      <td>6.000000</td>\n",
       "      <td>25.000000</td>\n",
       "      <td>0.000000</td>\n",
       "      <td>1.000000</td>\n",
       "      <td>269.484578</td>\n",
       "    </tr>\n",
       "    <tr>\n",
       "      <th>50%</th>\n",
       "      <td>5780.182197</td>\n",
       "      <td>34430.000000</td>\n",
       "      <td>83.000000</td>\n",
       "      <td>14.000000</td>\n",
       "      <td>48.000000</td>\n",
       "      <td>0.000000</td>\n",
       "      <td>2.000000</td>\n",
       "      <td>383.167471</td>\n",
       "    </tr>\n",
       "    <tr>\n",
       "      <th>75%</th>\n",
       "      <td>8963.294993</td>\n",
       "      <td>62459.500000</td>\n",
       "      <td>109.000000</td>\n",
       "      <td>23.000000</td>\n",
       "      <td>71.000000</td>\n",
       "      <td>0.000000</td>\n",
       "      <td>4.000000</td>\n",
       "      <td>547.200000</td>\n",
       "    </tr>\n",
       "    <tr>\n",
       "      <th>max</th>\n",
       "      <td>83325.381190</td>\n",
       "      <td>99981.000000</td>\n",
       "      <td>298.000000</td>\n",
       "      <td>35.000000</td>\n",
       "      <td>99.000000</td>\n",
       "      <td>5.000000</td>\n",
       "      <td>9.000000</td>\n",
       "      <td>2893.239678</td>\n",
       "    </tr>\n",
       "  </tbody>\n",
       "</table>\n",
       "</div>"
      ],
      "text/plain": [
       "       Customer Lifetime Value        Income  Monthly Premium Auto  \\\n",
       "count              8099.000000   8099.000000           8099.000000   \n",
       "mean               7981.271398  37843.544265             93.140758   \n",
       "std                6847.287340  30370.556860             34.381153   \n",
       "min                1898.007675      0.000000             61.000000   \n",
       "25%                3974.498315      0.000000             68.000000   \n",
       "50%                5780.182197  34430.000000             83.000000   \n",
       "75%                8963.294993  62459.500000            109.000000   \n",
       "max               83325.381190  99981.000000            298.000000   \n",
       "\n",
       "       Months Since Last Claim  Months Since Policy Inception  \\\n",
       "count              8099.000000                    8099.000000   \n",
       "mean                 15.071490                      48.147549   \n",
       "std                  10.086656                      27.818744   \n",
       "min                   0.000000                       0.000000   \n",
       "25%                   6.000000                      25.000000   \n",
       "50%                  14.000000                      48.000000   \n",
       "75%                  23.000000                      71.000000   \n",
       "max                  35.000000                      99.000000   \n",
       "\n",
       "       Number of Open Complaints  Number of Policies  Total Claim Amount  \n",
       "count                8099.000000         8099.000000         8099.000000  \n",
       "mean                    0.389184            2.963823          431.464401  \n",
       "std                     0.914152            2.390357          286.706233  \n",
       "min                     0.000000            1.000000            0.099007  \n",
       "25%                     0.000000            1.000000          269.484578  \n",
       "50%                     0.000000            2.000000          383.167471  \n",
       "75%                     0.000000            4.000000          547.200000  \n",
       "max                     5.000000            9.000000         2893.239678  "
      ]
     },
     "execution_count": 22,
     "metadata": {},
     "output_type": "execute_result"
    }
   ],
   "source": [
    "num_cols.describe()"
   ]
  },
  {
   "cell_type": "code",
   "execution_count": 20,
   "metadata": {
    "ExecuteTime": {
     "end_time": "2021-11-08T14:51:27.398493Z",
     "start_time": "2021-11-08T14:51:26.051090Z"
    }
   },
   "outputs": [
    {
     "data": {
      "image/png": "[encoded data removed]",
      "text/plain": [
       "<Figure size 1080x720 with 9 Axes>"
      ]
     },
     "metadata": {
      "needs_background": "light"
     },
     "output_type": "display_data"
    }
   ],
   "source": [
    "num_cols.hist(figsize=(15,10))\n",
    "plt.subplots_adjust(hspace=0.5);"
   ]
  },
  {
   "cell_type": "markdown",
   "metadata": {},
   "source": [
    "except for 'Months Since policy inception', other variable are skewed. May log transform? tox-box?"
   ]
  },
  {
   "cell_type": "code",
   "execution_count": 23,
   "metadata": {
    "ExecuteTime": {
     "end_time": "2021-11-08T18:50:56.846549Z",
     "start_time": "2021-11-08T18:50:55.975377Z"
    }
   },
   "outputs": [
    {
     "data": {
      "text/plain": [
       "<matplotlib.axes._subplots.AxesSubplot at 0x7f9a0f244ed0>"
      ]
     },
     "execution_count": 23,
     "metadata": {},
     "output_type": "execute_result"
    },
    {
     "data": {
      "image/png": "[encoded data removed]",
      "text/plain": [
       "<Figure size 432x288 with 2 Axes>"
      ]
     },
     "metadata": {
      "needs_background": "light"
     },
     "output_type": "display_data"
    }
   ],
   "source": [
    "#corr\n",
    "sns.heatmap(num_cols.corr())"
   ]
  },
  {
   "cell_type": "markdown",
   "metadata": {},
   "source": [
    "monthly premium auto, and total claim amount are related to CLV."
   ]
  },
  {
   "cell_type": "code",
   "execution_count": 24,
   "metadata": {
    "ExecuteTime": {
     "end_time": "2021-11-08T18:54:12.057302Z",
     "start_time": "2021-11-08T18:54:11.976853Z"
    }
   },
   "outputs": [],
   "source": [
    "#categorical variables:\n",
    "cat_cols = clv.select_dtypes(include = ['object'])"
   ]
  },
  {
   "cell_type": "code",
   "execution_count": 27,
   "metadata": {
    "ExecuteTime": {
     "end_time": "2021-11-08T18:56:10.729064Z",
     "start_time": "2021-11-08T18:56:10.624042Z"
    }
   },
   "outputs": [
    {
     "data": {
      "text/html": [
       "<div>\n",
       "<style scoped>\n",
       "    .dataframe tbody tr th:only-of-type {\n",
       "        vertical-align: middle;\n",
       "    }\n",
       "\n",
       "    .dataframe tbody tr th {\n",
       "        vertical-align: top;\n",
       "    }\n",
       "\n",
       "    .dataframe thead th {\n",
       "        text-align: right;\n",
       "    }\n",
       "</style>\n",
       "<table border=\"1\" class=\"dataframe\">\n",
       "  <thead>\n",
       "    <tr style=\"text-align: right;\">\n",
       "      <th></th>\n",
       "      <th>Customer</th>\n",
       "      <th>State</th>\n",
       "      <th>Response</th>\n",
       "      <th>Coverage</th>\n",
       "      <th>Education</th>\n",
       "      <th>Effective To Date</th>\n",
       "      <th>EmploymentStatus</th>\n",
       "      <th>Gender</th>\n",
       "      <th>Location Code</th>\n",
       "      <th>Marital Status</th>\n",
       "      <th>Policy Type</th>\n",
       "      <th>Policy</th>\n",
       "      <th>Renew Offer Type</th>\n",
       "      <th>Sales Channel</th>\n",
       "      <th>Vehicle Class</th>\n",
       "      <th>Vehicle Size</th>\n",
       "    </tr>\n",
       "  </thead>\n",
       "  <tbody>\n",
       "    <tr>\n",
       "      <th>0</th>\n",
       "      <td>BU79786</td>\n",
       "      <td>Washington</td>\n",
       "      <td>No</td>\n",
       "      <td>Basic</td>\n",
       "      <td>Bachelor</td>\n",
       "      <td>2/24/2011</td>\n",
       "      <td>Employed</td>\n",
       "      <td>F</td>\n",
       "      <td>Suburban</td>\n",
       "      <td>Married</td>\n",
       "      <td>Corporate Auto</td>\n",
       "      <td>Corporate L3</td>\n",
       "      <td>Offer1</td>\n",
       "      <td>Agent</td>\n",
       "      <td>Two-Door Car</td>\n",
       "      <td>Medsize</td>\n",
       "    </tr>\n",
       "    <tr>\n",
       "      <th>1</th>\n",
       "      <td>QZ44356</td>\n",
       "      <td>Arizona</td>\n",
       "      <td>No</td>\n",
       "      <td>Extended</td>\n",
       "      <td>Bachelor</td>\n",
       "      <td>1/31/2011</td>\n",
       "      <td>Unemployed</td>\n",
       "      <td>F</td>\n",
       "      <td>Suburban</td>\n",
       "      <td>Single</td>\n",
       "      <td>Personal Auto</td>\n",
       "      <td>Personal L3</td>\n",
       "      <td>Offer3</td>\n",
       "      <td>Agent</td>\n",
       "      <td>Four-Door Car</td>\n",
       "      <td>Medsize</td>\n",
       "    </tr>\n",
       "    <tr>\n",
       "      <th>2</th>\n",
       "      <td>AI49188</td>\n",
       "      <td>Nevada</td>\n",
       "      <td>No</td>\n",
       "      <td>Premium</td>\n",
       "      <td>Bachelor</td>\n",
       "      <td>2/19/2011</td>\n",
       "      <td>Employed</td>\n",
       "      <td>F</td>\n",
       "      <td>Suburban</td>\n",
       "      <td>Married</td>\n",
       "      <td>Personal Auto</td>\n",
       "      <td>Personal L3</td>\n",
       "      <td>Offer1</td>\n",
       "      <td>Agent</td>\n",
       "      <td>Two-Door Car</td>\n",
       "      <td>Medsize</td>\n",
       "    </tr>\n",
       "    <tr>\n",
       "      <th>3</th>\n",
       "      <td>WW63253</td>\n",
       "      <td>California</td>\n",
       "      <td>No</td>\n",
       "      <td>Basic</td>\n",
       "      <td>Bachelor</td>\n",
       "      <td>1/20/2011</td>\n",
       "      <td>Unemployed</td>\n",
       "      <td>M</td>\n",
       "      <td>Suburban</td>\n",
       "      <td>Married</td>\n",
       "      <td>Corporate Auto</td>\n",
       "      <td>Corporate L2</td>\n",
       "      <td>Offer1</td>\n",
       "      <td>Call Center</td>\n",
       "      <td>SUV</td>\n",
       "      <td>Medsize</td>\n",
       "    </tr>\n",
       "    <tr>\n",
       "      <th>4</th>\n",
       "      <td>HB64268</td>\n",
       "      <td>Washington</td>\n",
       "      <td>No</td>\n",
       "      <td>Basic</td>\n",
       "      <td>Bachelor</td>\n",
       "      <td>2/3/2011</td>\n",
       "      <td>Employed</td>\n",
       "      <td>M</td>\n",
       "      <td>Rural</td>\n",
       "      <td>Single</td>\n",
       "      <td>Personal Auto</td>\n",
       "      <td>Personal L1</td>\n",
       "      <td>Offer1</td>\n",
       "      <td>Agent</td>\n",
       "      <td>Four-Door Car</td>\n",
       "      <td>Medsize</td>\n",
       "    </tr>\n",
       "  </tbody>\n",
       "</table>\n",
       "</div>"
      ],
      "text/plain": [
       "  Customer       State Response  Coverage Education Effective To Date  \\\n",
       "0  BU79786  Washington       No     Basic  Bachelor         2/24/2011   \n",
       "1  QZ44356     Arizona       No  Extended  Bachelor         1/31/2011   \n",
       "2  AI49188      Nevada       No   Premium  Bachelor         2/19/2011   \n",
       "3  WW63253  California       No     Basic  Bachelor         1/20/2011   \n",
       "4  HB64268  Washington       No     Basic  Bachelor          2/3/2011   \n",
       "\n",
       "  EmploymentStatus Gender Location Code Marital Status     Policy Type  \\\n",
       "0         Employed      F      Suburban        Married  Corporate Auto   \n",
       "1       Unemployed      F      Suburban         Single   Personal Auto   \n",
       "2         Employed      F      Suburban        Married   Personal Auto   \n",
       "3       Unemployed      M      Suburban        Married  Corporate Auto   \n",
       "4         Employed      M         Rural         Single   Personal Auto   \n",
       "\n",
       "         Policy Renew Offer Type Sales Channel  Vehicle Class Vehicle Size  \n",
       "0  Corporate L3           Offer1         Agent   Two-Door Car      Medsize  \n",
       "1   Personal L3           Offer3         Agent  Four-Door Car      Medsize  \n",
       "2   Personal L3           Offer1         Agent   Two-Door Car      Medsize  \n",
       "3  Corporate L2           Offer1   Call Center            SUV      Medsize  \n",
       "4   Personal L1           Offer1         Agent  Four-Door Car      Medsize  "
      ]
     },
     "execution_count": 27,
     "metadata": {},
     "output_type": "execute_result"
    }
   ],
   "source": [
    "cat_cols.head()"
   ]
  },
  {
   "cell_type": "code",
   "execution_count": 30,
   "metadata": {
    "ExecuteTime": {
     "end_time": "2021-11-08T19:08:00.685583Z",
     "start_time": "2021-11-08T19:08:00.673364Z"
    }
   },
   "outputs": [
    {
     "data": {
      "text/plain": [
       "Index(['State', 'Response', 'Coverage', 'Education', 'EmploymentStatus',\n",
       "       'Gender', 'Location Code', 'Marital Status', 'Policy Type', 'Policy',\n",
       "       'Renew Offer Type', 'Sales Channel', 'Vehicle Class', 'Vehicle Size'],\n",
       "      dtype='object')"
      ]
     },
     "execution_count": 30,
     "metadata": {},
     "output_type": "execute_result"
    }
   ],
   "source": [
    "cat_cols.columns"
   ]
  },
  {
   "cell_type": "code",
   "execution_count": 29,
   "metadata": {
    "ExecuteTime": {
     "end_time": "2021-11-08T19:07:49.132416Z",
     "start_time": "2021-11-08T19:07:48.988277Z"
    }
   },
   "outputs": [
    {
     "name": "stderr",
     "output_type": "stream",
     "text": [
      "/Users/minyanshen/opt/anaconda3/lib/python3.7/site-packages/pandas/core/frame.py:3997: SettingWithCopyWarning: \n",
      "A value is trying to be set on a copy of a slice from a DataFrame\n",
      "\n",
      "See the caveats in the documentation: https://pandas.pydata.org/pandas-docs/stable/user_guide/indexing.html#returning-a-view-versus-a-copy\n",
      "  errors=errors,\n"
     ]
    }
   ],
   "source": [
    "cat_cols.drop(['Customer', 'Effective To Date'], axis = 1, inplace = True)"
   ]
  },
  {
   "cell_type": "code",
   "execution_count": 34,
   "metadata": {
    "ExecuteTime": {
     "end_time": "2021-11-08T19:24:23.248247Z",
     "start_time": "2021-11-08T19:24:23.147621Z"
    }
   },
   "outputs": [
    {
     "name": "stdout",
     "output_type": "stream",
     "text": [
      "Value count for column State:\n",
      "Oregon        2475\n",
      "California    2376\n",
      "Arizona       1640\n",
      "Nevada         842\n",
      "Washington     766\n",
      "Name: State, dtype: int64\n",
      "  \n",
      "Value count for column Response:\n",
      "No     6926\n",
      "Yes    1173\n",
      "Name: Response, dtype: int64\n",
      "  \n",
      "Value count for column Coverage:\n",
      "Basic       4931\n",
      "Extended    2440\n",
      "Premium      728\n",
      "Name: Coverage, dtype: int64\n",
      "  \n",
      "Value count for column Education:\n",
      "Bachelor                2430\n",
      "College                 2369\n",
      "High School or Below    2339\n",
      "Master                   648\n",
      "Doctor                   313\n",
      "Name: Education, dtype: int64\n",
      "  \n",
      "Value count for column EmploymentStatus:\n",
      "Employed         5079\n",
      "Unemployed       2041\n",
      "Medical Leave     376\n",
      "Disabled          357\n",
      "Retired           246\n",
      "Name: EmploymentStatus, dtype: int64\n",
      "  \n",
      "Value count for column Gender:\n",
      "F    4164\n",
      "M    3935\n",
      "Name: Gender, dtype: int64\n",
      "  \n",
      "Value count for column Location Code:\n",
      "Suburban    5098\n",
      "Rural       1598\n",
      "Urban       1403\n",
      "Name: Location Code, dtype: int64\n",
      "  \n",
      "Value count for column Marital Status:\n",
      "Married     4728\n",
      "Single      2153\n",
      "Divorced    1218\n",
      "Name: Marital Status, dtype: int64\n",
      "  \n",
      "Value count for column Policy Type:\n",
      "Personal Auto     6053\n",
      "Corporate Auto    1682\n",
      "Special Auto       364\n",
      "Name: Policy Type, dtype: int64\n",
      "  \n",
      "Value count for column Policy:\n",
      "Personal L3     3140\n",
      "Personal L2     1789\n",
      "Personal L1     1124\n",
      "Corporate L3     868\n",
      "Corporate L2     516\n",
      "Corporate L1     298\n",
      "Special L2       160\n",
      "Special L3       140\n",
      "Special L1        64\n",
      "Name: Policy, dtype: int64\n",
      "  \n",
      "Value count for column Renew Offer Type:\n",
      "Offer1    3324\n",
      "Offer2    2591\n",
      "Offer3    1262\n",
      "Offer4     922\n",
      "Name: Renew Offer Type, dtype: int64\n",
      "  \n",
      "Value count for column Sales Channel:\n",
      "Agent          3087\n",
      "Branch         2255\n",
      "Call Center    1567\n",
      "Web            1190\n",
      "Name: Sales Channel, dtype: int64\n",
      "  \n",
      "Value count for column Vehicle Class:\n",
      "Four-Door Car    4110\n",
      "Two-Door Car     1677\n",
      "SUV              1565\n",
      "Sports Car        436\n",
      "Luxury SUV        166\n",
      "Luxury Car        145\n",
      "Name: Vehicle Class, dtype: int64\n",
      "  \n",
      "Value count for column Vehicle Size:\n",
      "Medsize    5671\n",
      "Small      1585\n",
      "Large       843\n",
      "Name: Vehicle Size, dtype: int64\n",
      "  \n"
     ]
    }
   ],
   "source": [
    "for c in cat_cols:\n",
    "    print('Value count for column ' + c + ':')\n",
    "    print(cat_cols[c].value_counts())\n",
    "    print('  ')"
   ]
  },
  {
   "cell_type": "code",
   "execution_count": 36,
   "metadata": {
    "ExecuteTime": {
     "end_time": "2021-11-08T19:27:45.216411Z",
     "start_time": "2021-11-08T19:27:44.945721Z"
    }
   },
   "outputs": [
    {
     "name": "stdout",
     "output_type": "stream",
     "text": [
      "State\n",
      "Arizona       7855.485055\n",
      "California    7962.001036\n",
      "Nevada        7987.139540\n",
      "Oregon        8084.560493\n",
      "Washington    7970.167604\n",
      "Name: Customer Lifetime Value, dtype: float64\n",
      "Stored 'state_data' (Series)\n"
     ]
    }
   ],
   "source": [
    "df_state= clv.set_index('State').groupby('State').mean()\n",
    "print(df_state['Customer Lifetime Value'])\n",
    "state_data = df_state['Customer Lifetime Value']\n",
    "%store state_data"
   ]
  },
  {
   "cell_type": "code",
   "execution_count": null,
   "metadata": {},
   "outputs": [],
   "source": []
  }
 ],
 "metadata": {
  "kernelspec": {
   "display_name": "Python 3",
   "language": "python",
   "name": "python3"
  },
  "language_info": {
   "codemirror_mode": {
    "name": "ipython",
    "version": 3
   },
   "file_extension": ".py",
   "mimetype": "text/x-python",
   "name": "python",
   "nbconvert_exporter": "python",
   "pygments_lexer": "ipython3",
   "version": "3.7.6"
  },
  "toc": {
   "base_numbering": 1,
   "nav_menu": {},
   "number_sections": true,
   "sideBar": true,
   "skip_h1_title": false,
   "title_cell": "Table of Contents",
   "title_sidebar": "Contents",
   "toc_cell": false,
   "toc_position": {},
   "toc_section_display": true,
   "toc_window_display": false
  }
 },
 "nbformat": 4,
 "nbformat_minor": 4
}
